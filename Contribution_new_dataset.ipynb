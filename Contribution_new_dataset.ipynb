{
  "nbformat": 4,
  "nbformat_minor": 0,
  "metadata": {
    "colab": {
      "provenance": []
    },
    "kernelspec": {
      "name": "python3",
      "display_name": "Python 3"
    },
    "language_info": {
      "name": "python"
    }
  },
  "cells": [
    {
      "cell_type": "markdown",
      "source": [
        "## Code for binary class fusion model-1 (ANN+RF) using weighted score fusion"
      ],
      "metadata": {
        "id": "j3GdEVJMOCtZ"
      }
    },
    {
      "cell_type": "code",
      "execution_count": 3,
      "metadata": {
        "id": "cjQieBDonVOq"
      },
      "outputs": [],
      "source": [
        "from sklearn.model_selection import StratifiedKFold\n",
        "from keras.models import Sequential\n",
        "from keras.layers import Dense ,BatchNormalization\n",
        "from sklearn.model_selection import train_test_split\n",
        "from sklearn.model_selection import train_test_split\n",
        "from sklearn.preprocessing import MinMaxScaler,StandardScaler\n",
        "from tensorflow.keras.optimizers import Adam,SGD\n",
        "from matplotlib import pyplot as plt\n",
        "import numpy\n",
        "import numpy as np\n",
        "from sklearn.metrics import classification_report\n",
        "import sklearn.metrics as metrics\n",
        "import pandas as pd"
      ]
    },
    {
      "cell_type": "code",
      "source": [
        "from google.colab import drive\n",
        "drive.mount('/content/drive')"
      ],
      "metadata": {
        "colab": {
          "base_uri": "https://localhost:8080/"
        },
        "id": "ZLB7t1YJu8k-",
        "outputId": "c7f3b958-52d9-4130-a2c0-eb40d3dcc09f"
      },
      "execution_count": 4,
      "outputs": [
        {
          "output_type": "stream",
          "name": "stdout",
          "text": [
            "Mounted at /content/drive\n"
          ]
        }
      ]
    },
    {
      "cell_type": "code",
      "source": [
        "dataset = pd.read_csv(\"binary_classification_modified.csv\", delimiter=\",\")\n",
        "\n",
        "x = dataset.iloc[:, 0:13]\n",
        "\n",
        "# Select all rows and the 14th column for labels\n",
        "y = dataset.iloc[:, 13]"
      ],
      "metadata": {
        "id": "qSKtcj1poFoe"
      },
      "execution_count": 5,
      "outputs": []
    },
    {
      "cell_type": "code",
      "source": [
        "#for 80:20 ratio\n",
        "#X_train, X_test, y_train, y_test = train_test_split(x, y, test_size=0.2, shuffle=True)\n",
        "\n",
        "#for 70:30 ratio\n",
        "X_train, X_test, y_train, y_test = train_test_split(x, y, test_size=0.3, shuffle=True)\n"
      ],
      "metadata": {
        "id": "4Wd342F5n66l"
      },
      "execution_count": 6,
      "outputs": []
    },
    {
      "cell_type": "code",
      "source": [
        "\n",
        "#StandardScaler for normalization for some algortihms\n",
        "sc = StandardScaler()\n",
        "\n",
        "#min-max scaler for normalization for some algortihms\n",
        "scaler = MinMaxScaler(feature_range=(0,1))\n",
        "\n",
        "\n"
      ],
      "metadata": {
        "id": "ZSwIF7pmxHRY"
      },
      "execution_count": 7,
      "outputs": []
    },
    {
      "cell_type": "markdown",
      "source": [
        "Information based algorithms (Decision Trees, Random Forests) and probability based algorithms (Naive Bayes, Bayesian Networks) don't require normalization either."
      ],
      "metadata": {
        "id": "dP0XXtefy_TW"
      }
    },
    {
      "cell_type": "code",
      "source": [
        "#code for RF\n",
        "\n",
        "from sklearn.ensemble import RandomForestClassifier\n",
        "model3 = RandomForestClassifier(n_estimators=100)\n",
        "\n",
        "model3.fit(X_train,y_train)\n",
        "rounded_predictions3 = model3.predict(X_test)\n",
        "predictions3 =model3.predict_proba(X_test)\n",
        "y_pred3 = rounded_predictions3\n",
        "\n",
        "\n",
        "import sklearn.metrics as metrics\n",
        "scores3=metrics.accuracy_score(y_test,y_pred3)\n",
        "print(\"RF\",scores3)\n",
        "\n",
        "print(metrics.confusion_matrix(y_test,y_pred3))\n",
        "print(metrics.classification_report(y_test,y_pred3))\n",
        "\n",
        "\n",
        "fpr3, tpr3, threshold = metrics.roc_curve(y_test, y_pred3)\n",
        "roc_auc3 = metrics.auc(fpr3, tpr3)\n",
        "print(\"roc_auc_RF\",roc_auc3)\n",
        "\n",
        "\n",
        "#code for ANN\n",
        "\n",
        "from keras import regularizers\n",
        "from keras.regularizers import l2\n",
        "import tensorflow as tf\n",
        "\n",
        "\n",
        "\n",
        "scaled_X_train_ann=scaler.fit_transform(X_train)\n",
        "scaled_X_test_ann=scaler.transform(X_test)\n",
        "\n",
        "\n",
        "\n",
        "model2 = Sequential()\n",
        "model2.add(Dense(8, input_dim=13,activation='relu',kernel_regularizer=l2(0.01) ))\n",
        "model2.add(Dense(1, activation='sigmoid'))\n",
        "sgd = SGD(lr=0.01, momentum=0.9, nesterov=True)\n",
        "model2.compile(loss='binary_crossentropy', optimizer='sgd',metrics=['accuracy'])\n",
        "\n",
        "history=model2.fit(scaled_X_train_ann, y_train,validation_split=0.1, batch_size=10,epochs=15,shuffle=True,verbose=2)\n",
        "\n",
        "\n",
        "predictions2 = model2.predict(scaled_X_test_ann,batch_size=5,verbose=0)\n",
        "#rounded_predictions2 = model2.predict_classes(scaled_X_test_ann,batch_size=5,verbose=0)\n",
        "rounded_predictions2=np.round(predictions2).astype(int)\n",
        "y_pred2 = rounded_predictions2\n",
        "\n",
        "import sklearn.metrics as metrics\n",
        "score2=metrics.accuracy_score(y_test,y_pred2)\n",
        "print(\"ANN\",score2)\n",
        "\n",
        "print(metrics.confusion_matrix(y_test,y_pred2))\n",
        "print(metrics.classification_report(y_test,y_pred2))\n",
        "\n",
        "fpr2, tpr2, threshold = metrics.roc_curve(y_test,y_pred2)\n",
        "roc_auc2 = metrics.auc(fpr2, tpr2)\n",
        "print(\"roc_auc_ann\",roc_auc2)\n",
        "\n"
      ],
      "metadata": {
        "colab": {
          "base_uri": "https://localhost:8080/"
        },
        "id": "aGWy_eETxRpp",
        "outputId": "f609c382-e94e-4a83-c6b4-483fa0422f6a"
      },
      "execution_count": 8,
      "outputs": [
        {
          "output_type": "stream",
          "name": "stdout",
          "text": [
            "RF 0.7142857142857143\n",
            "[[37 13]\n",
            " [13 28]]\n",
            "              precision    recall  f1-score   support\n",
            "\n",
            "           0       0.74      0.74      0.74        50\n",
            "           1       0.68      0.68      0.68        41\n",
            "\n",
            "    accuracy                           0.71        91\n",
            "   macro avg       0.71      0.71      0.71        91\n",
            "weighted avg       0.71      0.71      0.71        91\n",
            "\n",
            "roc_auc_RF 0.7114634146341463\n"
          ]
        },
        {
          "output_type": "stream",
          "name": "stderr",
          "text": [
            "WARNING:absl:`lr` is deprecated in Keras optimizer, please use `learning_rate` or use the legacy optimizer, e.g.,tf.keras.optimizers.legacy.SGD.\n"
          ]
        },
        {
          "output_type": "stream",
          "name": "stdout",
          "text": [
            "Epoch 1/15\n",
            "19/19 - 2s - loss: 0.8128 - accuracy: 0.5053 - val_loss: 0.8340 - val_accuracy: 0.4545 - 2s/epoch - 117ms/step\n",
            "Epoch 2/15\n",
            "19/19 - 0s - loss: 0.8041 - accuracy: 0.4895 - val_loss: 0.8309 - val_accuracy: 0.5000 - 125ms/epoch - 7ms/step\n",
            "Epoch 3/15\n",
            "19/19 - 0s - loss: 0.7980 - accuracy: 0.5211 - val_loss: 0.8293 - val_accuracy: 0.4545 - 141ms/epoch - 7ms/step\n",
            "Epoch 4/15\n",
            "19/19 - 0s - loss: 0.7941 - accuracy: 0.5000 - val_loss: 0.8258 - val_accuracy: 0.4091 - 120ms/epoch - 6ms/step\n",
            "Epoch 5/15\n",
            "19/19 - 0s - loss: 0.7906 - accuracy: 0.5211 - val_loss: 0.8252 - val_accuracy: 0.4091 - 122ms/epoch - 6ms/step\n",
            "Epoch 6/15\n",
            "19/19 - 0s - loss: 0.7876 - accuracy: 0.5053 - val_loss: 0.8208 - val_accuracy: 0.4091 - 144ms/epoch - 8ms/step\n",
            "Epoch 7/15\n",
            "19/19 - 0s - loss: 0.7837 - accuracy: 0.5211 - val_loss: 0.8176 - val_accuracy: 0.4545 - 126ms/epoch - 7ms/step\n",
            "Epoch 8/15\n",
            "19/19 - 0s - loss: 0.7810 - accuracy: 0.5053 - val_loss: 0.8143 - val_accuracy: 0.4545 - 123ms/epoch - 6ms/step\n",
            "Epoch 9/15\n",
            "19/19 - 0s - loss: 0.7781 - accuracy: 0.5053 - val_loss: 0.8113 - val_accuracy: 0.4545 - 142ms/epoch - 7ms/step\n",
            "Epoch 10/15\n",
            "19/19 - 0s - loss: 0.7757 - accuracy: 0.5263 - val_loss: 0.8086 - val_accuracy: 0.5000 - 118ms/epoch - 6ms/step\n",
            "Epoch 11/15\n",
            "19/19 - 0s - loss: 0.7733 - accuracy: 0.5263 - val_loss: 0.8059 - val_accuracy: 0.5455 - 129ms/epoch - 7ms/step\n",
            "Epoch 12/15\n",
            "19/19 - 0s - loss: 0.7713 - accuracy: 0.5263 - val_loss: 0.8019 - val_accuracy: 0.5455 - 116ms/epoch - 6ms/step\n",
            "Epoch 13/15\n",
            "19/19 - 0s - loss: 0.7691 - accuracy: 0.5474 - val_loss: 0.7995 - val_accuracy: 0.5455 - 112ms/epoch - 6ms/step\n",
            "Epoch 14/15\n",
            "19/19 - 0s - loss: 0.7659 - accuracy: 0.5684 - val_loss: 0.7971 - val_accuracy: 0.5455 - 90ms/epoch - 5ms/step\n",
            "Epoch 15/15\n",
            "19/19 - 0s - loss: 0.7642 - accuracy: 0.5368 - val_loss: 0.7941 - val_accuracy: 0.5455 - 84ms/epoch - 4ms/step\n",
            "ANN 0.6043956043956044\n",
            "[[41  9]\n",
            " [27 14]]\n",
            "              precision    recall  f1-score   support\n",
            "\n",
            "           0       0.60      0.82      0.69        50\n",
            "           1       0.61      0.34      0.44        41\n",
            "\n",
            "    accuracy                           0.60        91\n",
            "   macro avg       0.61      0.58      0.57        91\n",
            "weighted avg       0.61      0.60      0.58        91\n",
            "\n",
            "roc_auc_ann 0.5807317073170732\n"
          ]
        }
      ]
    },
    {
      "cell_type": "code",
      "source": [
        "#weighted fusion\n",
        "#same procedure for every model(1,2 and 3). for every model we need to take the prediction\n",
        "# values and then the values will be merged according to the procedure given in below.\n",
        "\n",
        "#selecting the best value for p and q(p & q represents the weights w1 & w2)\n",
        "p=1\n",
        "#q=1-p\n",
        "for i in range (19):\n",
        "    p=p-.05\n",
        "    q=1-p\n",
        "\n",
        "\n",
        "    mixed=predictions3[:,1]*p+predictions2[:,0]*q\n",
        "    rounded_mixed=mixed\n",
        "    for i in range(len(y_test)):\n",
        "        if mixed[i]>.5:\n",
        "            rounded_mixed[i]=1\n",
        "        else:\n",
        "            rounded_mixed[i]=0\n",
        "\n",
        "    score=metrics.accuracy_score(rounded_mixed,y_test)\n",
        "    print(\"  mixed  p  q\",\"%.4f\" %score, \"%.2f\" %p,\"%.2f\" %q)\n",
        "\n",
        "\n",
        "#after selecting the value of p and q which gives the highest accuracy. This value differs for different algorithms.\n",
        "\n",
        "p=.05\n",
        "q=1-p\n",
        "\n",
        "mixed=predictions3[:,1]*p+predictions2[:,0]*q\n",
        "rounded_mixed=mixed\n",
        "for i in range(len(y_test)):\n",
        "    if mixed[i]>=.5:\n",
        "        rounded_mixed[i]=1\n",
        "    else:\n",
        "         rounded_mixed[i]=0\n",
        "\n",
        "score=metrics.accuracy_score(rounded_mixed,y_test)\n",
        "print(\"mixed\",score)\n",
        "\n",
        "print(metrics.confusion_matrix(y_test,rounded_mixed))\n",
        "print(metrics.classification_report(y_test,rounded_mixed))\n",
        "\n",
        "fpr, tpr, threshold = metrics.roc_curve(rounded_mixed,y_test)\n",
        "roc_auc = metrics.auc(fpr, tpr)\n",
        "print(\"roc_auc_tot\",roc_auc)\n",
        "\n",
        "\n"
      ],
      "metadata": {
        "colab": {
          "base_uri": "https://localhost:8080/"
        },
        "id": "AO_BNLraxRyW",
        "outputId": "1f6617dd-c5bb-4e7d-fbc5-d8bdf65e386f"
      },
      "execution_count": 9,
      "outputs": [
        {
          "output_type": "stream",
          "name": "stdout",
          "text": [
            "  mixed  p  q 0.7143 0.95 0.05\n",
            "  mixed  p  q 0.7033 0.90 0.10\n",
            "  mixed  p  q 0.7033 0.85 0.15\n",
            "  mixed  p  q 0.7033 0.80 0.20\n",
            "  mixed  p  q 0.7033 0.75 0.25\n",
            "  mixed  p  q 0.7033 0.70 0.30\n",
            "  mixed  p  q 0.7033 0.65 0.35\n",
            "  mixed  p  q 0.6923 0.60 0.40\n",
            "  mixed  p  q 0.6923 0.55 0.45\n",
            "  mixed  p  q 0.7033 0.50 0.50\n",
            "  mixed  p  q 0.7033 0.45 0.55\n",
            "  mixed  p  q 0.6593 0.40 0.60\n",
            "  mixed  p  q 0.6593 0.35 0.65\n",
            "  mixed  p  q 0.6484 0.30 0.70\n",
            "  mixed  p  q 0.6593 0.25 0.75\n",
            "  mixed  p  q 0.6484 0.20 0.80\n",
            "  mixed  p  q 0.6154 0.15 0.85\n",
            "  mixed  p  q 0.6154 0.10 0.90\n",
            "  mixed  p  q 0.6044 0.05 0.95\n",
            "mixed 0.6043956043956044\n",
            "[[41  9]\n",
            " [27 14]]\n",
            "              precision    recall  f1-score   support\n",
            "\n",
            "           0       0.60      0.82      0.69        50\n",
            "           1       0.61      0.34      0.44        41\n",
            "\n",
            "    accuracy                           0.60        91\n",
            "   macro avg       0.61      0.58      0.57        91\n",
            "weighted avg       0.61      0.60      0.58        91\n",
            "\n",
            "roc_auc_tot 0.6058184143222507\n"
          ]
        }
      ]
    },
    {
      "cell_type": "code",
      "source": [
        "import matplotlib.pyplot as plt\n",
        "plt.title('Receiver Operating Characteristic')\n",
        "plt.plot(fpr3, tpr3, 'b', label = 'algorithm1= = %0.2f' % roc_auc3)\n",
        "plt.plot(fpr2, tpr2, 'r', label = 'algorithm2= %0.2f' % roc_auc2)\n",
        "plt.plot(fpr, tpr, 'g', label = 'Fusion= %0.2f' % roc_auc)\n",
        "plt.legend(loc = 'lower right')\n",
        "plt.plot([0, 1], [0, 1],'r--')\n",
        "plt.xlim([0, 1])\n",
        "plt.ylim([0, 1])\n",
        "plt.ylabel('True Positive Rate')\n",
        "plt.xlabel('False Positive Rate')\n",
        "plt.show()\n",
        "\n"
      ],
      "metadata": {
        "id": "AcmYUXYcLznu",
        "colab": {
          "base_uri": "https://localhost:8080/",
          "height": 472
        },
        "outputId": "9889d3b9-6b01-42c3-ac04-40438197f152"
      },
      "execution_count": 10,
      "outputs": [
        {
          "output_type": "display_data",
          "data": {
            "text/plain": [
              "<Figure size 640x480 with 1 Axes>"
            ],
            "image/png": "[encoded data removed]"
          },
          "metadata": {}
        }
      ]
    }
  ]
}